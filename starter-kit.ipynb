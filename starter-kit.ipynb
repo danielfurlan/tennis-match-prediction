{
 "cells": [
  {
   "cell_type": "code",
   "execution_count": 1,
   "metadata": {},
   "outputs": [],
   "source": [
    "import pandas as pd\n",
    "from urllib.request import urlopen  \n",
    "import os.path as osp\n",
    "import os\n",
    "import logging\n",
    "import zipfile\n",
    "from glob import glob\n",
    "logging.getLogger().setLevel('INFO')"
   ]
  },
  {
   "cell_type": "code",
   "execution_count": 2,
   "metadata": {},
   "outputs": [],
   "source": [
    "import numpy as np\n",
    "from IPython.display import display, HTML\n",
    "\n",
    "import matplotlib\n",
    "matplotlib.use(\"cairo\")\n",
    "import matplotlib.pyplot as plt\n",
    "import matplotlib.dates as mdates\n",
    "import matplotlib.cbook as cbook\n",
    "\n",
    "%matplotlib inline"
   ]
  },
  {
   "cell_type": "markdown",
   "metadata": {},
   "source": [
    "## Helpers"
   ]
  },
  {
   "cell_type": "code",
   "execution_count": 3,
   "metadata": {},
   "outputs": [],
   "source": [
    "def download_file(url_str, path):\n",
    "    url = urlopen(url_str)\n",
    "    output = open(path, 'wb')       \n",
    "    output.write(url.read())\n",
    "    output.close()  \n",
    "    \n",
    "def extract_file(archive_path, target_dir):\n",
    "    zip_file = zipfile.ZipFile(archive_path, 'r')\n",
    "    zip_file.extractall(target_dir)\n",
    "    zip_file.close()"
   ]
  },
  {
   "cell_type": "markdown",
   "metadata": {},
   "source": [
    "## Download the dataset"
   ]
  },
  {
   "cell_type": "code",
   "execution_count": null,
   "metadata": {},
   "outputs": [],
   "source": [
    "BASE_URL = 'http://tennis-data.co.uk'\n",
    "DATA_DIR = \"tennis_data\"\n",
    "ATP_DIR = './{}/ATP'.format(DATA_DIR)\n",
    "WTA_DIR = './{}/WTA'.format(DATA_DIR)\n",
    "\n",
    "ATP_URLS = [BASE_URL + \"/%i/%i.zip\" % (i,i) for i in range(2000,2019)]\n",
    "WTA_URLS = [BASE_URL + \"/%iw/%i.zip\" % (i,i) for i in range(2007,2019)]\n",
    "\n",
    "os.makedirs(osp.join(ATP_DIR, 'archives'), exist_ok=True)\n",
    "os.makedirs(osp.join(WTA_DIR, 'archives'), exist_ok=True)\n",
    "\n",
    "for files, directory in ((ATP_URLS, ATP_DIR), (WTA_URLS, WTA_DIR)):\n",
    "    for dl_path in files:\n",
    "        logging.info(\"downloading & extracting file %s\", dl_path)\n",
    "        archive_path = osp.join(directory, 'archives', osp.basename(dl_path))\n",
    "        download_file(dl_path, archive_path)\n",
    "        extract_file(archive_path, directory)\n",
    "    \n",
    "ATP_FILES = sorted(glob(\"%s/*.xls*\" % ATP_DIR))\n",
    "WTA_FILES = sorted(glob(\"%s/*.xls*\" % WTA_DIR))\n",
    "\n",
    "df_atp = pd.concat([pd.read_excel(f) for f in ATP_FILES], ignore_index=True)\n",
    "df_wta = pd.concat([pd.read_excel(f) for f in WTA_FILES], ignore_index=True)\n",
    "\n",
    "logging.info(\"%i matches ATP in df_atp\", df_atp.shape[0])\n",
    "logging.info(\"%i matches WTA in df_wta\", df_wta.shape[0])"
   ]
  },
  {
   "cell_type": "code",
   "execution_count": null,
   "metadata": {},
   "outputs": [],
   "source": [
    "df_atp.to_csv(\"df_atp.csv\")\n",
    "df_wta.to_csv(\"df_wta.csv\")"
   ]
  },
  {
   "cell_type": "markdown",
   "metadata": {},
   "source": [
    "#### If the dataset is already available"
   ]
  },
  {
   "cell_type": "code",
   "execution_count": 3,
   "metadata": {},
   "outputs": [
    {
     "data": {
      "text/html": [
       "<div>\n",
       "<style>\n",
       "    .dataframe thead tr:only-child th {\n",
       "        text-align: right;\n",
       "    }\n",
       "\n",
       "    .dataframe thead th {\n",
       "        text-align: left;\n",
       "    }\n",
       "\n",
       "    .dataframe tbody tr th {\n",
       "        vertical-align: top;\n",
       "    }\n",
       "</style>\n",
       "<table border=\"1\" class=\"dataframe\">\n",
       "  <thead>\n",
       "    <tr style=\"text-align: right;\">\n",
       "      <th></th>\n",
       "      <th>ATP</th>\n",
       "      <th>AvgL</th>\n",
       "      <th>AvgW</th>\n",
       "      <th>B&amp;WL</th>\n",
       "      <th>B&amp;WW</th>\n",
       "      <th>B365L</th>\n",
       "      <th>B365W</th>\n",
       "      <th>Best of</th>\n",
       "      <th>CBL</th>\n",
       "      <th>CBW</th>\n",
       "      <th>...</th>\n",
       "      <th>UBW</th>\n",
       "      <th>W1</th>\n",
       "      <th>W2</th>\n",
       "      <th>W3</th>\n",
       "      <th>W4</th>\n",
       "      <th>W5</th>\n",
       "      <th>WPts</th>\n",
       "      <th>WRank</th>\n",
       "      <th>Winner</th>\n",
       "      <th>Wsets</th>\n",
       "    </tr>\n",
       "  </thead>\n",
       "  <tbody>\n",
       "    <tr>\n",
       "      <th>0</th>\n",
       "      <td>1</td>\n",
       "      <td>NaN</td>\n",
       "      <td>NaN</td>\n",
       "      <td>NaN</td>\n",
       "      <td>NaN</td>\n",
       "      <td>NaN</td>\n",
       "      <td>NaN</td>\n",
       "      <td>3</td>\n",
       "      <td>NaN</td>\n",
       "      <td>NaN</td>\n",
       "      <td>...</td>\n",
       "      <td>NaN</td>\n",
       "      <td>6.0</td>\n",
       "      <td>6.0</td>\n",
       "      <td>NaN</td>\n",
       "      <td>NaN</td>\n",
       "      <td>NaN</td>\n",
       "      <td>NaN</td>\n",
       "      <td>63</td>\n",
       "      <td>Dosedel S.</td>\n",
       "      <td>2.0</td>\n",
       "    </tr>\n",
       "    <tr>\n",
       "      <th>1</th>\n",
       "      <td>1</td>\n",
       "      <td>NaN</td>\n",
       "      <td>NaN</td>\n",
       "      <td>NaN</td>\n",
       "      <td>NaN</td>\n",
       "      <td>NaN</td>\n",
       "      <td>NaN</td>\n",
       "      <td>3</td>\n",
       "      <td>NaN</td>\n",
       "      <td>NaN</td>\n",
       "      <td>...</td>\n",
       "      <td>NaN</td>\n",
       "      <td>6.0</td>\n",
       "      <td>6.0</td>\n",
       "      <td>NaN</td>\n",
       "      <td>NaN</td>\n",
       "      <td>NaN</td>\n",
       "      <td>NaN</td>\n",
       "      <td>5</td>\n",
       "      <td>Enqvist T.</td>\n",
       "      <td>2.0</td>\n",
       "    </tr>\n",
       "    <tr>\n",
       "      <th>2</th>\n",
       "      <td>1</td>\n",
       "      <td>NaN</td>\n",
       "      <td>NaN</td>\n",
       "      <td>NaN</td>\n",
       "      <td>NaN</td>\n",
       "      <td>NaN</td>\n",
       "      <td>NaN</td>\n",
       "      <td>3</td>\n",
       "      <td>NaN</td>\n",
       "      <td>NaN</td>\n",
       "      <td>...</td>\n",
       "      <td>NaN</td>\n",
       "      <td>6.0</td>\n",
       "      <td>7.0</td>\n",
       "      <td>6.0</td>\n",
       "      <td>NaN</td>\n",
       "      <td>NaN</td>\n",
       "      <td>NaN</td>\n",
       "      <td>40</td>\n",
       "      <td>Escude N.</td>\n",
       "      <td>2.0</td>\n",
       "    </tr>\n",
       "    <tr>\n",
       "      <th>3</th>\n",
       "      <td>1</td>\n",
       "      <td>NaN</td>\n",
       "      <td>NaN</td>\n",
       "      <td>NaN</td>\n",
       "      <td>NaN</td>\n",
       "      <td>NaN</td>\n",
       "      <td>NaN</td>\n",
       "      <td>3</td>\n",
       "      <td>NaN</td>\n",
       "      <td>NaN</td>\n",
       "      <td>...</td>\n",
       "      <td>NaN</td>\n",
       "      <td>6.0</td>\n",
       "      <td>6.0</td>\n",
       "      <td>NaN</td>\n",
       "      <td>NaN</td>\n",
       "      <td>NaN</td>\n",
       "      <td>NaN</td>\n",
       "      <td>65</td>\n",
       "      <td>Federer R.</td>\n",
       "      <td>2.0</td>\n",
       "    </tr>\n",
       "    <tr>\n",
       "      <th>4</th>\n",
       "      <td>1</td>\n",
       "      <td>NaN</td>\n",
       "      <td>NaN</td>\n",
       "      <td>NaN</td>\n",
       "      <td>NaN</td>\n",
       "      <td>NaN</td>\n",
       "      <td>NaN</td>\n",
       "      <td>3</td>\n",
       "      <td>NaN</td>\n",
       "      <td>NaN</td>\n",
       "      <td>...</td>\n",
       "      <td>NaN</td>\n",
       "      <td>7.0</td>\n",
       "      <td>5.0</td>\n",
       "      <td>6.0</td>\n",
       "      <td>NaN</td>\n",
       "      <td>NaN</td>\n",
       "      <td>NaN</td>\n",
       "      <td>81</td>\n",
       "      <td>Fromberg R.</td>\n",
       "      <td>2.0</td>\n",
       "    </tr>\n",
       "  </tbody>\n",
       "</table>\n",
       "<p>5 rows × 54 columns</p>\n",
       "</div>"
      ],
      "text/plain": [
       "   ATP  AvgL  AvgW  B&WL  B&WW  B365L  B365W  Best of  CBL  CBW  ...   UBW  \\\n",
       "0    1   NaN   NaN   NaN   NaN    NaN    NaN        3  NaN  NaN  ...   NaN   \n",
       "1    1   NaN   NaN   NaN   NaN    NaN    NaN        3  NaN  NaN  ...   NaN   \n",
       "2    1   NaN   NaN   NaN   NaN    NaN    NaN        3  NaN  NaN  ...   NaN   \n",
       "3    1   NaN   NaN   NaN   NaN    NaN    NaN        3  NaN  NaN  ...   NaN   \n",
       "4    1   NaN   NaN   NaN   NaN    NaN    NaN        3  NaN  NaN  ...   NaN   \n",
       "\n",
       "    W1   W2   W3  W4  W5  WPts  WRank       Winner  Wsets  \n",
       "0  6.0  6.0  NaN NaN NaN   NaN     63   Dosedel S.    2.0  \n",
       "1  6.0  6.0  NaN NaN NaN   NaN      5   Enqvist T.    2.0  \n",
       "2  6.0  7.0  6.0 NaN NaN   NaN     40    Escude N.    2.0  \n",
       "3  6.0  6.0  NaN NaN NaN   NaN     65   Federer R.    2.0  \n",
       "4  7.0  5.0  6.0 NaN NaN   NaN     81  Fromberg R.    2.0  \n",
       "\n",
       "[5 rows x 54 columns]"
      ]
     },
     "execution_count": 3,
     "metadata": {},
     "output_type": "execute_result"
    }
   ],
   "source": [
    "df_atp = pd.read_csv(\"df_atp.csv\", index_col=0, low_memory=False)\n",
    "df_atp[\"Date\"] = pd.to_datetime(df_atp[\"Date\"])\n",
    "\n",
    "df_atp.head(5)"
   ]
  },
  {
   "cell_type": "markdown",
   "metadata": {},
   "source": [
    "## Your work"
   ]
  },
  {
   "cell_type": "markdown",
   "metadata": {},
   "source": [
    "### Helper Functions"
   ]
  },
  {
   "cell_type": "code",
   "execution_count": 4,
   "metadata": {},
   "outputs": [],
   "source": [
    "def mutual_hist(data1, data1_name, data1_color, data2, data2_name, data2_color, x_label, y_label, title):\n",
    "    \"\"\"\n",
    "    Plot overlaid histograms of two distributions\n",
    "    \"\"\"\n",
    "    # Set the bounds for the bins so that the two distributions are fairly compared\n",
    "    max_nbins = 10\n",
    "    data_range = [min(min(data1), min(data2)), max(max(data1), max(data2))]\n",
    "    binwidth = (data_range[1] - data_range[0]) / max_nbins\n",
    "    bins = np.arange(data_range[0], data_range[1] + binwidth, binwidth)\n",
    "\n",
    "    # Create the plot\n",
    "    _, ax = plt.subplots()\n",
    "    ax.hist(data1, bins = bins, color = data1_color, alpha = 1, label = data1_name)\n",
    "    ax.hist(data2, bins = bins, color = data2_color, alpha = 0.75, label = data2_name)\n",
    "    ax.set_ylabel(y_label)\n",
    "    ax.set_xlabel(x_label)\n",
    "    ax.set_title(title)\n",
    "    ax.legend(loc = 'best')"
   ]
  },
  {
   "cell_type": "markdown",
   "metadata": {},
   "source": [
    "### Q1. The three (3) ATP players with most wins"
   ]
  },
  {
   "cell_type": "code",
   "execution_count": 5,
   "metadata": {},
   "outputs": [
    {
     "data": {
      "text/plain": [
       "Winner\n",
       "Federer R.     1108\n",
       "Nadal R.        891\n",
       "Djokovic N.     789\n",
       "dtype: int64"
      ]
     },
     "execution_count": 5,
     "metadata": {},
     "output_type": "execute_result"
    }
   ],
   "source": [
    "df_atp.groupby(\"Winner\").size().sort_values(ascending=False).head(3)\n",
    "\n",
    "# .groupby : Creates groups each holding rows with unique column value\n",
    "# .size    : Returns size of each group\n",
    "# .sort_values : Sorts the Panda Series (actually in descending order)\n",
    "# .head        : Returns the N foremost elements"
   ]
  },
  {
   "cell_type": "markdown",
   "metadata": {},
   "source": [
    "### Q2. The number of sets won by Roger Federer"
   ]
  },
  {
   "cell_type": "code",
   "execution_count": 6,
   "metadata": {},
   "outputs": [
    {
     "data": {
      "text/html": [
       "<h4>The number of sets won in total by R. Federer is : 2530 sets"
      ],
      "text/plain": [
       "<IPython.core.display.HTML object>"
      ]
     },
     "metadata": {},
     "output_type": "display_data"
    }
   ],
   "source": [
    "# We filter the ATP dataframe to get Federer's matches\n",
    "# To do so, we need to make sure that our research is case-insensitive\n",
    "# Also we could use regular expressions\n",
    "\n",
    "df_federer = df_atp[df_atp[\"Winner\"].str.contains('federer', case=False)]\n",
    "sets_won = int(df_federer[\"Wsets\"].sum())\n",
    "\n",
    "display(HTML(\"<h4>The number of sets won in total by R. Federer is : {} sets\".format(sets_won)))"
   ]
  },
  {
   "cell_type": "markdown",
   "metadata": {},
   "source": [
    "### Q3. The number of sets won by Roger Federer in 2016 and 2017"
   ]
  },
  {
   "cell_type": "code",
   "execution_count": 7,
   "metadata": {
    "scrolled": true
   },
   "outputs": [
    {
     "data": {
      "text/html": [
       "<h4>The number of sets won in 2016 by R. Federer is : 52 sets"
      ],
      "text/plain": [
       "<IPython.core.display.HTML object>"
      ]
     },
     "metadata": {},
     "output_type": "display_data"
    },
    {
     "data": {
      "text/html": [
       "<h4>The number of sets won in 2017 by R. Federer is : 120 sets"
      ],
      "text/plain": [
       "<IPython.core.display.HTML object>"
      ]
     },
     "metadata": {},
     "output_type": "display_data"
    },
    {
     "data": {
      "text/html": [
       "<h4>The number of sets won in 2016 and 2017 by R. Federer is : 172 sets"
      ],
      "text/plain": [
       "<IPython.core.display.HTML object>"
      ]
     },
     "metadata": {},
     "output_type": "display_data"
    }
   ],
   "source": [
    "# For 2016 only\n",
    "sets_won_2016 = df_federer[df_federer[\"Date\"].dt.year == 2016][\"Wsets\"].sum()\n",
    "sets_won_2016 = int(sets_won_2016)\n",
    "\n",
    "# For 2017 only\n",
    "sets_won_2017 = df_federer[df_federer[\"Date\"].dt.year == 2017][\"Wsets\"].sum()\n",
    "sets_won_2017 = int(sets_won_2017)\n",
    "\n",
    "# For both 2016 and 2017 (For the sake of using multiple filtering criterias)\n",
    "sets_won_2016_2017 = df_federer[(df_federer[\"Date\"].dt.year == 2016) | (df_federer[\"Date\"].dt.year == 2017)][\"Wsets\"].sum()\n",
    "sets_won_2016_2017 = int(sets_won_2016_2017)\n",
    "\n",
    "display(HTML(\"<h4>The number of sets won in 2016 by R. Federer is : {} sets\".format(sets_won_2016)))\n",
    "display(HTML(\"<h4>The number of sets won in 2017 by R. Federer is : {} sets\".format(sets_won_2017)))\n",
    "display(HTML(\"<h4>The number of sets won in 2016 and 2017 by R. Federer is : {} sets\".format(sets_won_2016_2017)))"
   ]
  },
  {
   "cell_type": "markdown",
   "metadata": {},
   "source": [
    "## Q4. Percentage of winner victories prior to each match"
   ]
  },
  {
   "cell_type": "markdown",
   "metadata": {},
   "source": [
    "###### The solution to this question is computationally extensive\n",
    "- We try to solve this issue by either parallelizing the Pandas' `apply` method using a library (e.g. Dask).\n",
    "- Or, we adopt C-compiled code using Cython (Actual solution)"
   ]
  },
  {
   "cell_type": "code",
   "execution_count": 8,
   "metadata": {},
   "outputs": [],
   "source": [
    "%load_ext Cython"
   ]
  },
  {
   "cell_type": "code",
   "execution_count": 9,
   "metadata": {},
   "outputs": [],
   "source": [
    "%%cython\n",
    "cpdef double prior_wins_percentage(date, str player, df, int min_games=5):\n",
    "    \"\"\"\n",
    "    Calculate the percentage of a player's wins prior to a given date\n",
    "    \n",
    "    @arg date (Datetime) : The reference date\n",
    "    @arg player (str) : Player's name\n",
    "    @arg df (pd.DataFrame) : Pandas Dataframe holding the games date\n",
    "    @arg min_games (int) : Used to avoid extra-high win rates (e.g. like at a professional career debut)\n",
    "    \n",
    "    @return Floating number between 0.0 and 1.0 representing the actual wins percentage\n",
    "    \"\"\"\n",
    "    cpdef df_prior;\n",
    "    cdef int prior_wins;\n",
    "    cdef int prior_losses;\n",
    "    \n",
    "    df_prior = df[df[\"Date\"] < date]\n",
    "    prior_wins = df_prior[df_prior[\"Winner\"] == player].shape[0]\n",
    "    prior_losses = df_prior[df_prior[\"Loser\"] == player].shape[0]\n",
    "    \n",
    "    # We set a minimum number of games to avoid extra-high win rates\n",
    "    # (e.g. like at a professional career debut)\n",
    "    if (prior_wins + prior_losses) < min_games:\n",
    "        return 0\n",
    "    return prior_wins / (prior_wins + prior_losses)"
   ]
  },
  {
   "cell_type": "markdown",
   "metadata": {},
   "source": [
    "#### Calculate the match winner's prior wins precentage"
   ]
  },
  {
   "cell_type": "code",
   "execution_count": null,
   "metadata": {},
   "outputs": [],
   "source": [
    "df_atp[\"winner_prior_wins\"] = df_atp.apply(\n",
    "    lambda row: prior_wins_percentage(\n",
    "        row[\"Date\"],\n",
    "        row[\"Winner\"],\n",
    "        df_atp\n",
    "    ),\n",
    "    axis=1\n",
    ")"
   ]
  },
  {
   "cell_type": "markdown",
   "metadata": {},
   "source": [
    "#### Calculate the match loser's prior wins percentage\n",
    "This will be a useful feature for our classification."
   ]
  },
  {
   "cell_type": "code",
   "execution_count": null,
   "metadata": {},
   "outputs": [],
   "source": [
    "df_atp[\"loser_prior_wins\"] = df_atp.apply(\n",
    "    lambda row: prior_wins_percentage(\n",
    "        row[\"Date\"],\n",
    "        row[\"Loser\"],\n",
    "        df_atp\n",
    "    ),\n",
    "    axis=1\n",
    ")"
   ]
  },
  {
   "cell_type": "markdown",
   "metadata": {},
   "source": [
    "###### Save to a local CSV file"
   ]
  },
  {
   "cell_type": "code",
   "execution_count": 10,
   "metadata": {},
   "outputs": [],
   "source": [
    "# df_atp.to_csv(\"atp_prior_wins.csv\")\n",
    "\n",
    "df_atp = pd.read_csv(\"atp_prior_wins.csv\", index_col=0, low_memory=False)\n",
    "df_atp[\"Date\"] = pd.to_datetime(df_atp[\"Date\"])"
   ]
  },
  {
   "cell_type": "markdown",
   "metadata": {},
   "source": [
    "### Plotting the distribution of prior wins percentages of each opponent"
   ]
  },
  {
   "cell_type": "code",
   "execution_count": 11,
   "metadata": {},
   "outputs": [
    {
     "data": {
      "text/html": [
       "<h4>Here, nothing new : Winners tend to win and losers tend to lose. Nature stikes again."
      ],
      "text/plain": [
       "<IPython.core.display.HTML object>"
      ]
     },
     "metadata": {},
     "output_type": "display_data"
    },
    {
     "data": {
      "image/png": "[encoded data removed]",
      "text/plain": [
       "<matplotlib.figure.Figure at 0x7fcbcd4174e0>"
      ]
     },
     "metadata": {},
     "output_type": "display_data"
    }
   ],
   "source": [
    "mutual_hist(data1 = df_atp[\"winner_prior_wins\"].apply(lambda x: x * 100)\n",
    "                   , data1_name = 'Winner'\n",
    "                   , data1_color = 'salmon'\n",
    "                   , data2 = df_atp[\"loser_prior_wins\"].apply(lambda x: x * 100)\n",
    "                   , data2_name = 'Loser'\n",
    "                   , data2_color = 'navy'\n",
    "                   , x_label = 'Prior Wins Percentage'\n",
    "                   , y_label = 'Frequency'\n",
    "                   , title = 'Distribution of Wins Percentages')\n",
    "\n",
    "display(HTML(\"<h4>Here, nothing new : Winners tend to win and losers tend to lose. Nature stikes again.\"))"
   ]
  },
  {
   "cell_type": "markdown",
   "metadata": {},
   "source": [
    "### Plotting the Career Progress of Top 3 ATP Players"
   ]
  },
  {
   "cell_type": "code",
   "execution_count": 12,
   "metadata": {},
   "outputs": [],
   "source": [
    "df_top3 = df_atp[\n",
    "    (df_atp[\"Winner\"].str.contains(\"federer\", case=False)) | \\\n",
    "    (df_atp[\"Winner\"].str.contains(\"nadal\", case=False)) | \\\n",
    "    (df_atp[\"Winner\"].str.contains(\"djokovic\", case=False))\n",
    "][[\"Winner\", \"Date\", \"winner_prior_wins\"]]\n",
    "\n",
    "df_top3 = df_top3.drop(df_top3[df_top3[\"winner_prior_wins\"] == 0.0].index)"
   ]
  },
  {
   "cell_type": "code",
   "execution_count": 13,
   "metadata": {},
   "outputs": [],
   "source": [
    "x_date = []\n",
    "y_federer = []\n",
    "y_nadal = []\n",
    "y_djokovic = []\n",
    "\n",
    "for date, group in df_top3.groupby([\"Date\"]):\n",
    "    x_date.append(date)\n",
    "    try:\n",
    "        y_federer.append(group[group[\"Winner\"].str.contains(\"federer\", case=False)].iloc[0][\"winner_prior_wins\"])\n",
    "    except IndexError:\n",
    "        y_federer.append(y_federer[-1] if len(y_federer) else 0.0)\n",
    "    try:\n",
    "        y_nadal.append(group[group[\"Winner\"].str.contains(\"nadal\", case=False)].iloc[0][\"winner_prior_wins\"])\n",
    "    except IndexError:\n",
    "        y_nadal.append(y_nadal[-1] if len(y_nadal) else 0.0)\n",
    "    try:\n",
    "        y_djokovic.append(group[group[\"Winner\"].str.contains(\"djokovic\", case=False)].iloc[0][\"winner_prior_wins\"])\n",
    "    except IndexError:\n",
    "        y_djokovic.append(y_djokovic[-1] if len(y_djokovic) else 0.0)"
   ]
  },
  {
   "cell_type": "code",
   "execution_count": 14,
   "metadata": {},
   "outputs": [
    {
     "data": {
      "image/png": "[encoded data removed]",
      "text/plain": [
       "<matplotlib.figure.Figure at 0x7fcbc46c1c50>"
      ]
     },
     "metadata": {},
     "output_type": "display_data"
    }
   ],
   "source": [
    "plt.figure(figsize=(15, 5))\n",
    "\n",
    "plt.plot(x_date, y_federer, color='salmon', label=\"Federer R.\")\n",
    "plt.plot(x_date, y_nadal, color='navy', label=\"Nadal R.\")\n",
    "plt.plot(x_date, y_djokovic, color='green', label=\"Djokovic N.\")\n",
    "plt.title(\"Wins progress of most successful ATP players\")\n",
    "plt.xlabel(\"Years\")\n",
    "plt.ylabel(\"Wins Percentage\")\n",
    "plt.legend(loc='best');"
   ]
  },
  {
   "cell_type": "markdown",
   "metadata": {},
   "source": [
    "## Features Extraction & Selection"
   ]
  },
  {
   "cell_type": "markdown",
   "metadata": {},
   "source": [
    "We set Player 1 as the player who's name alphabetically comes first.\n",
    "\n",
    "Then, we set the labels as :\n",
    "- 1 -> if Player 1 wins\n",
    "- 0 -> if Player 1 loses"
   ]
  },
  {
   "cell_type": "code",
   "execution_count": 15,
   "metadata": {},
   "outputs": [
    {
     "data": {
      "text/html": [
       "<div>\n",
       "<style>\n",
       "    .dataframe thead tr:only-child th {\n",
       "        text-align: right;\n",
       "    }\n",
       "\n",
       "    .dataframe thead th {\n",
       "        text-align: left;\n",
       "    }\n",
       "\n",
       "    .dataframe tbody tr th {\n",
       "        vertical-align: top;\n",
       "    }\n",
       "</style>\n",
       "<table border=\"1\" class=\"dataframe\">\n",
       "  <thead>\n",
       "    <tr style=\"text-align: right;\">\n",
       "      <th></th>\n",
       "      <th>Winner</th>\n",
       "      <th>Loser</th>\n",
       "      <th>Labels</th>\n",
       "    </tr>\n",
       "  </thead>\n",
       "  <tbody>\n",
       "    <tr>\n",
       "      <th>0</th>\n",
       "      <td>Dosedel S.</td>\n",
       "      <td>Ljubicic I.</td>\n",
       "      <td>1</td>\n",
       "    </tr>\n",
       "    <tr>\n",
       "      <th>1</th>\n",
       "      <td>Enqvist T.</td>\n",
       "      <td>Clement A.</td>\n",
       "      <td>0</td>\n",
       "    </tr>\n",
       "    <tr>\n",
       "      <th>2</th>\n",
       "      <td>Escude N.</td>\n",
       "      <td>Baccanello P.</td>\n",
       "      <td>0</td>\n",
       "    </tr>\n",
       "    <tr>\n",
       "      <th>3</th>\n",
       "      <td>Federer R.</td>\n",
       "      <td>Knippschild J.</td>\n",
       "      <td>1</td>\n",
       "    </tr>\n",
       "    <tr>\n",
       "      <th>4</th>\n",
       "      <td>Fromberg R.</td>\n",
       "      <td>Woodbridge T.</td>\n",
       "      <td>1</td>\n",
       "    </tr>\n",
       "  </tbody>\n",
       "</table>\n",
       "</div>"
      ],
      "text/plain": [
       "        Winner           Loser  Labels\n",
       "0   Dosedel S.     Ljubicic I.       1\n",
       "1   Enqvist T.      Clement A.       0\n",
       "2    Escude N.   Baccanello P.       0\n",
       "3   Federer R.  Knippschild J.       1\n",
       "4  Fromberg R.   Woodbridge T.       1"
      ]
     },
     "metadata": {},
     "output_type": "display_data"
    },
    {
     "data": {
      "text/html": [
       "<h4>The number of 1's : 26426"
      ],
      "text/plain": [
       "<IPython.core.display.HTML object>"
      ]
     },
     "metadata": {},
     "output_type": "display_data"
    },
    {
     "data": {
      "text/html": [
       "<h4>The number of 0's : 25550"
      ],
      "text/plain": [
       "<IPython.core.display.HTML object>"
      ]
     },
     "metadata": {},
     "output_type": "display_data"
    },
    {
     "data": {
      "text/html": [
       "<h4>We notice that there is no Imbalanced Data issue !"
      ],
      "text/plain": [
       "<IPython.core.display.HTML object>"
      ]
     },
     "metadata": {},
     "output_type": "display_data"
    }
   ],
   "source": [
    "df_atp[\"Labels\"] = df_atp.apply(lambda row: 1 if row[\"Winner\"] < row[\"Loser\"] else 0, axis=1)\n",
    "display(df_atp[[\"Winner\", \"Loser\", \"Labels\"]].head(5))\n",
    "\n",
    "display(HTML(\"<h4>The number of 1's : {}\".format(df_atp[df_atp[\"Labels\"] == 1].shape[0])))\n",
    "display(HTML(\"<h4>The number of 0's : {}\".format(df_atp[df_atp[\"Labels\"] == 0].shape[0])))\n",
    "display(HTML(\"<h4>We notice that there is no Imbalanced Data issue !\"))"
   ]
  },
  {
   "cell_type": "markdown",
   "metadata": {},
   "source": [
    "### Dropping features that are intuitively irrelevant"
   ]
  },
  {
   "cell_type": "code",
   "execution_count": 16,
   "metadata": {},
   "outputs": [],
   "source": [
    "df_feat = df_atp.loc[:, ['AvgL', 'AvgW', 'B&WL', 'B&WW', 'B365L', 'B365W', 'CBL', 'CBW', 'EXL', 'EXW', 'GBL', 'GBW', \\\n",
    "    'IWL', 'IWW', 'L1', 'L2', 'L3', 'L4', 'L5', 'LBL', 'LBW', 'LRank', 'Lsets', 'MaxL', 'MaxW', 'PSL', 'PSW', \\\n",
    "    'SBL', 'SBW', 'SJL', 'SJW', 'UBL', 'UBW', 'W1', 'W2', 'W3', 'W4', 'W5', 'WRank', 'Wsets', \\\n",
    "    'winner_prior_wins', 'loser_prior_wins', \"Date\", 'Labels']]"
   ]
  },
  {
   "cell_type": "markdown",
   "metadata": {},
   "source": [
    "### Dealing with NaNs\n",
    "- We first convert values that are objects to float representation\n",
    "- Second, we drop columns where all values are NaNs\n",
    "- Then, we fill NaN values with the following strategy :\n",
    "    - For odds, we replace NaNs by a value of 1.0 which corresponds to a winning probability of 50% (For an odd X/Y, the winning probability is given by `p = Y / (X + Y)`)\n",
    "    - For number of games won by set, we replace NaNs by zeros, supposing that the match is won before arriving to this set\n",
    "    - For number of sets won during the match `Wsets` and `Lsets`, we suppose that the NaN values correspond to a withdrawal (e.g. due to injury), so we replace that by zeros\n",
    "    - For Player's rank, we fill with the maximum rank value in each column\n",
    "    "
   ]
  },
  {
   "cell_type": "code",
   "execution_count": 17,
   "metadata": {},
   "outputs": [
    {
     "data": {
      "text/html": [
       "<h4>Counting the NaN values for each feature :"
      ],
      "text/plain": [
       "<IPython.core.display.HTML object>"
      ]
     },
     "metadata": {},
     "output_type": "display_data"
    },
    {
     "data": {
      "text/plain": [
       "AvgL                 29553\n",
       "AvgW                 29553\n",
       "B&WL                 50879\n",
       "B&WW                 50879\n",
       "B365L                 8631\n",
       "B365W                 8654\n",
       "CBL                  34470\n",
       "CBW                  34470\n",
       "EXL                  12881\n",
       "EXW                  12886\n",
       "GBL                  46921\n",
       "GBW                  46921\n",
       "IWL                  38618\n",
       "IWW                  38618\n",
       "L1                     255\n",
       "L2                     763\n",
       "L3                   27918\n",
       "L4                   47245\n",
       "L5                   50185\n",
       "LBL                  24030\n",
       "LBW                  24041\n",
       "LRank                   78\n",
       "Lsets                  219\n",
       "MaxL                 29553\n",
       "MaxW                 29553\n",
       "PSL                  14958\n",
       "PSW                  14958\n",
       "SBL                  46552\n",
       "SBW                  46552\n",
       "SJL                  36397\n",
       "SJW                  36404\n",
       "UBL                  41305\n",
       "UBW                  41305\n",
       "W1                     257\n",
       "W2                     764\n",
       "W3                   27917\n",
       "W4                   47245\n",
       "W5                   50185\n",
       "WRank                   15\n",
       "Wsets                  218\n",
       "winner_prior_wins        0\n",
       "loser_prior_wins         0\n",
       "Date                     0\n",
       "Labels                   0\n",
       "dtype: int64"
      ]
     },
     "execution_count": 17,
     "metadata": {},
     "output_type": "execute_result"
    }
   ],
   "source": [
    "display(HTML(\"<h4>Counting the NaN values for each feature :\"))\n",
    "df_feat.isnull().sum()"
   ]
  },
  {
   "cell_type": "markdown",
   "metadata": {},
   "source": [
    "#### Casting Datetimes to floats"
   ]
  },
  {
   "cell_type": "code",
   "execution_count": 18,
   "metadata": {},
   "outputs": [],
   "source": [
    "df_feat[\"Date\"] = pd.to_numeric(df_feat[\"Date\"], downcast='float')"
   ]
  },
  {
   "cell_type": "markdown",
   "metadata": {},
   "source": [
    "####  We then convert object values to numerical values to be able to fit them into our models"
   ]
  },
  {
   "cell_type": "code",
   "execution_count": 19,
   "metadata": {},
   "outputs": [],
   "source": [
    "object_cols = df_feat.columns[df_feat.dtypes.eq(object)]\n",
    "df_feat.loc[:, object_cols] = df_feat.apply(pd.to_numeric, errors='coerce')    # \"coerce\" means replacing errors by NaNs"
   ]
  },
  {
   "cell_type": "markdown",
   "metadata": {},
   "source": [
    "#### Now we fill NaNs according to the aforementioned strategy"
   ]
  },
  {
   "cell_type": "code",
   "execution_count": 20,
   "metadata": {},
   "outputs": [],
   "source": [
    "df_feat = df_feat.dropna(axis=1, how=\"all\")\n",
    "\n",
    "df_feat.fillna({x : 1.0 for x in [\n",
    "    \"AvgL\", \"AvgW\", \"B&WL\", \"B&WW\", \"B365L\", \"B365W\", \"CBL\", \"CBW\", \"EXL\", \"EXW\", \"GBL\", \"GBW\", \"IWL\", \"IWW\",\n",
    "    \"LBL\", \"LBW\", \"MaxL\", \"MaxW\", \"PSL\", \"PSW\", \"SBL\", \"SBW\", \"SJL\", \"SJW\", \"UBL\", \"UBW\"\n",
    "]}, inplace=True);\n",
    "\n",
    "df_feat.fillna({x : 0 for x in [\n",
    "    \"L1\", \"L2\", \"L3\", \"L4\", \"L5\", \"W1\", \"W2\", \"W3\", \"W4\", \"W5\", \"Lsets\", \"Wsets\"\n",
    "]}, inplace=True);\n",
    "\n",
    "df_feat[\"WRank\"] = df_feat[\"WRank\"].fillna(df_feat[\"WRank\"].max())\n",
    "df_feat[\"LRank\"] = df_feat[\"LRank\"].fillna(df_feat[\"LRank\"].max())"
   ]
  },
  {
   "cell_type": "markdown",
   "metadata": {},
   "source": [
    "### Most Relevant Features\n",
    "\n",
    "We use a Random Forest Classifier to find the features relevance in our classification problem"
   ]
  },
  {
   "cell_type": "code",
   "execution_count": 21,
   "metadata": {},
   "outputs": [
    {
     "data": {
      "image/png": "[encoded data removed]",
      "text/plain": [
       "<matplotlib.figure.Figure at 0x7fcbb7a6cb70>"
      ]
     },
     "metadata": {},
     "output_type": "display_data"
    }
   ],
   "source": [
    "from sklearn.ensemble import RandomForestClassifier\n",
    "\n",
    "feat_forest = RandomForestClassifier(n_jobs=-1)\n",
    "feat_forest.fit(X=df_feat.drop(\"Labels\", axis=1), y=df_feat.loc[:, \"Labels\"])\n",
    "\n",
    "plt.figure(figsize=(10, 10))\n",
    "feat_imp = feat_forest.feature_importances_\n",
    "cols = df_feat.columns\n",
    "\n",
    "feat_imp, cols = zip(*sorted(zip(feat_imp, cols)))\n",
    "\n",
    "plt.barh(range(len(cols)), feat_imp, align=\"center\", color='coral');\n",
    "plt.yticks(range(len(cols)), cols)\n",
    "plt.title(\"Features Relevance for Classification\")\n",
    "plt.xlabel(\"Relevance Percentage\")\n",
    "plt.tight_layout();"
   ]
  },
  {
   "cell_type": "markdown",
   "metadata": {},
   "source": [
    "#### We set a minimum relevance percentage threshold according to which we drop features"
   ]
  },
  {
   "cell_type": "code",
   "execution_count": 22,
   "metadata": {},
   "outputs": [
    {
     "data": {
      "text/plain": [
       "('B365L',\n",
       " 'B365W',\n",
       " 'EXW',\n",
       " 'EXL',\n",
       " 'L1',\n",
       " 'L2',\n",
       " 'PSW',\n",
       " 'PSL',\n",
       " 'WRank',\n",
       " 'Date',\n",
       " 'LRank',\n",
       " 'loser_prior_wins',\n",
       " 'winner_prior_wins')"
      ]
     },
     "execution_count": 22,
     "metadata": {},
     "output_type": "execute_result"
    }
   ],
   "source": [
    "relevance_threshold = 0.025\n",
    "feat_imp = np.array(feat_imp)\n",
    "most_relevante_feat = cols[- np.where(feat_imp > relevance_threshold)[0].shape[0] :]\n",
    "\n",
    "most_relevante_feat"
   ]
  },
  {
   "cell_type": "code",
   "execution_count": 23,
   "metadata": {},
   "outputs": [
    {
     "data": {
      "text/html": [
       "<div>\n",
       "<style>\n",
       "    .dataframe thead tr:only-child th {\n",
       "        text-align: right;\n",
       "    }\n",
       "\n",
       "    .dataframe thead th {\n",
       "        text-align: left;\n",
       "    }\n",
       "\n",
       "    .dataframe tbody tr th {\n",
       "        vertical-align: top;\n",
       "    }\n",
       "</style>\n",
       "<table border=\"1\" class=\"dataframe\">\n",
       "  <thead>\n",
       "    <tr style=\"text-align: right;\">\n",
       "      <th></th>\n",
       "      <th>B365L</th>\n",
       "      <th>B365W</th>\n",
       "      <th>EXW</th>\n",
       "      <th>EXL</th>\n",
       "      <th>L1</th>\n",
       "      <th>L2</th>\n",
       "      <th>PSW</th>\n",
       "      <th>PSL</th>\n",
       "      <th>WRank</th>\n",
       "      <th>Date</th>\n",
       "      <th>LRank</th>\n",
       "      <th>loser_prior_wins</th>\n",
       "      <th>winner_prior_wins</th>\n",
       "      <th>Labels</th>\n",
       "    </tr>\n",
       "  </thead>\n",
       "  <tbody>\n",
       "    <tr>\n",
       "      <th>0</th>\n",
       "      <td>1.0</td>\n",
       "      <td>1.0</td>\n",
       "      <td>1.0</td>\n",
       "      <td>1.0</td>\n",
       "      <td>4.0</td>\n",
       "      <td>2.0</td>\n",
       "      <td>1.0</td>\n",
       "      <td>1.0</td>\n",
       "      <td>63.0</td>\n",
       "      <td>9.468576e+17</td>\n",
       "      <td>77.0</td>\n",
       "      <td>0.0</td>\n",
       "      <td>0.0</td>\n",
       "      <td>1</td>\n",
       "    </tr>\n",
       "    <tr>\n",
       "      <th>1</th>\n",
       "      <td>1.0</td>\n",
       "      <td>1.0</td>\n",
       "      <td>1.0</td>\n",
       "      <td>1.0</td>\n",
       "      <td>3.0</td>\n",
       "      <td>3.0</td>\n",
       "      <td>1.0</td>\n",
       "      <td>1.0</td>\n",
       "      <td>5.0</td>\n",
       "      <td>9.468576e+17</td>\n",
       "      <td>56.0</td>\n",
       "      <td>0.0</td>\n",
       "      <td>0.0</td>\n",
       "      <td>0</td>\n",
       "    </tr>\n",
       "    <tr>\n",
       "      <th>2</th>\n",
       "      <td>1.0</td>\n",
       "      <td>1.0</td>\n",
       "      <td>1.0</td>\n",
       "      <td>1.0</td>\n",
       "      <td>7.0</td>\n",
       "      <td>5.0</td>\n",
       "      <td>1.0</td>\n",
       "      <td>1.0</td>\n",
       "      <td>40.0</td>\n",
       "      <td>9.468576e+17</td>\n",
       "      <td>655.0</td>\n",
       "      <td>0.0</td>\n",
       "      <td>0.0</td>\n",
       "      <td>0</td>\n",
       "    </tr>\n",
       "    <tr>\n",
       "      <th>3</th>\n",
       "      <td>1.0</td>\n",
       "      <td>1.0</td>\n",
       "      <td>1.0</td>\n",
       "      <td>1.0</td>\n",
       "      <td>1.0</td>\n",
       "      <td>4.0</td>\n",
       "      <td>1.0</td>\n",
       "      <td>1.0</td>\n",
       "      <td>65.0</td>\n",
       "      <td>9.468576e+17</td>\n",
       "      <td>87.0</td>\n",
       "      <td>0.0</td>\n",
       "      <td>0.0</td>\n",
       "      <td>1</td>\n",
       "    </tr>\n",
       "    <tr>\n",
       "      <th>4</th>\n",
       "      <td>1.0</td>\n",
       "      <td>1.0</td>\n",
       "      <td>1.0</td>\n",
       "      <td>1.0</td>\n",
       "      <td>6.0</td>\n",
       "      <td>7.0</td>\n",
       "      <td>1.0</td>\n",
       "      <td>1.0</td>\n",
       "      <td>81.0</td>\n",
       "      <td>9.468576e+17</td>\n",
       "      <td>198.0</td>\n",
       "      <td>0.0</td>\n",
       "      <td>0.0</td>\n",
       "      <td>1</td>\n",
       "    </tr>\n",
       "  </tbody>\n",
       "</table>\n",
       "</div>"
      ],
      "text/plain": [
       "   B365L  B365W  EXW  EXL   L1   L2  PSW  PSL  WRank          Date  LRank  \\\n",
       "0    1.0    1.0  1.0  1.0  4.0  2.0  1.0  1.0   63.0  9.468576e+17   77.0   \n",
       "1    1.0    1.0  1.0  1.0  3.0  3.0  1.0  1.0    5.0  9.468576e+17   56.0   \n",
       "2    1.0    1.0  1.0  1.0  7.0  5.0  1.0  1.0   40.0  9.468576e+17  655.0   \n",
       "3    1.0    1.0  1.0  1.0  1.0  4.0  1.0  1.0   65.0  9.468576e+17   87.0   \n",
       "4    1.0    1.0  1.0  1.0  6.0  7.0  1.0  1.0   81.0  9.468576e+17  198.0   \n",
       "\n",
       "   loser_prior_wins  winner_prior_wins  Labels  \n",
       "0               0.0                0.0       1  \n",
       "1               0.0                0.0       0  \n",
       "2               0.0                0.0       0  \n",
       "3               0.0                0.0       1  \n",
       "4               0.0                0.0       1  "
      ]
     },
     "execution_count": 23,
     "metadata": {},
     "output_type": "execute_result"
    }
   ],
   "source": [
    "df_feat = df_feat[[*(most_relevante_feat + (\"Labels\",))]]\n",
    "df_feat.head(5)"
   ]
  },
  {
   "cell_type": "markdown",
   "metadata": {},
   "source": [
    "## Data Viz"
   ]
  },
  {
   "cell_type": "markdown",
   "metadata": {},
   "source": [
    "#### Opponents Previous Wins Percentages"
   ]
  },
  {
   "cell_type": "code",
   "execution_count": 24,
   "metadata": {},
   "outputs": [
    {
     "data": {
      "text/html": [
       "<h4>We notice that match winners tend to have more prior wins then their opponent. In other words winners keep winning and losers don't."
      ],
      "text/plain": [
       "<IPython.core.display.HTML object>"
      ]
     },
     "metadata": {},
     "output_type": "display_data"
    },
    {
     "data": {
      "image/png": "[encoded data removed]",
      "text/plain": [
       "<matplotlib.figure.Figure at 0x7fcbc57f1b00>"
      ]
     },
     "metadata": {},
     "output_type": "display_data"
    }
   ],
   "source": [
    "mutual_hist(data1 = df_feat[\"winner_prior_wins\"].apply(lambda x: x * 100)\n",
    "                   , data1_name = 'Winner'\n",
    "                   , data1_color = 'salmon'\n",
    "                   , data2 = df_feat[\"loser_prior_wins\"].apply(lambda x: x * 100)\n",
    "                   , data2_name = 'Loser'\n",
    "                   , data2_color = 'navy'\n",
    "                   , x_label = 'Prior Wins Percentage'\n",
    "                   , y_label = 'Frequency'\n",
    "                   , title = 'Distribution of Wins Percentages')\n",
    "\n",
    "display(HTML(\"<h4>We notice that match winners tend to have more prior wins then their opponent. In other words winners keep winning and losers don't.\"))"
   ]
  },
  {
   "cell_type": "markdown",
   "metadata": {},
   "source": [
    "#### Opponents ATP Ranking Distribution"
   ]
  },
  {
   "cell_type": "code",
   "execution_count": 25,
   "metadata": {},
   "outputs": [
    {
     "data": {
      "image/png": "[encoded data removed]",
      "text/plain": [
       "<matplotlib.figure.Figure at 0x7fcb97fccd30>"
      ]
     },
     "metadata": {},
     "output_type": "display_data"
    }
   ],
   "source": [
    "mutual_hist(data1 = df_feat[df_feat[\"WRank\"] < 100][\"WRank\"]\n",
    "                   , data1_name = 'Winner'\n",
    "                   , data1_color = 'salmon'\n",
    "                   , data2 = df_feat[df_feat[\"LRank\"] < 100][\"LRank\"]\n",
    "                   , data2_name = 'Loser'\n",
    "                   , data2_color = 'navy'\n",
    "                   , x_label = 'Rank'\n",
    "                   , y_label = 'Frequency'\n",
    "                   , title = 'Distribution of TOP 100 ATP Player')"
   ]
  },
  {
   "cell_type": "markdown",
   "metadata": {},
   "source": [
    "#### Opponenet's Pinnacles Odds"
   ]
  },
  {
   "cell_type": "code",
   "execution_count": 26,
   "metadata": {},
   "outputs": [
    {
     "data": {
      "text/html": [
       "<h4>We take Pinnacles' odds because they are well known to be more relevante."
      ],
      "text/plain": [
       "<IPython.core.display.HTML object>"
      ]
     },
     "metadata": {},
     "output_type": "display_data"
    },
    {
     "data": {
      "text/html": [
       "<h4>The winner odds are smaller, which means a bigger win probability according to the relation P = Y / (X + Y), where the odds are X/Y"
      ],
      "text/plain": [
       "<IPython.core.display.HTML object>"
      ]
     },
     "metadata": {},
     "output_type": "display_data"
    },
    {
     "data": {
      "image/png": "[encoded data removed]",
      "text/plain": [
       "<matplotlib.figure.Figure at 0x7fcbb5792240>"
      ]
     },
     "metadata": {},
     "output_type": "display_data"
    }
   ],
   "source": [
    "mutual_hist(data1 = df_feat[df_feat[\"PSW\"] < 5.0][\"PSW\"]\n",
    "                   , data1_name = 'Winner'\n",
    "                   , data1_color = 'salmon'\n",
    "                   , data2 = df_feat[df_feat[\"PSL\"] < 5.0][\"PSL\"]\n",
    "                   , data2_name = 'Loser'\n",
    "                   , data2_color = 'navy'\n",
    "                   , x_label = 'Rank'\n",
    "                   , y_label = 'Frequency'\n",
    "                   , title = 'Distribution of TOP 100 ATP Player')\n",
    "\n",
    "display(HTML(\"<h4>We take Pinnacles' odds because they are well known to be more relevante.\"))\n",
    "display(HTML(\"<h4>The winner odds are smaller, which means a bigger win probability according to the relation P = Y / (X + Y), where the odds are X/Y\"))"
   ]
  },
  {
   "cell_type": "markdown",
   "metadata": {},
   "source": [
    "### Standardize the Data"
   ]
  },
  {
   "cell_type": "code",
   "execution_count": 27,
   "metadata": {},
   "outputs": [],
   "source": [
    "from sklearn.preprocessing import StandardScaler, RobustScaler, Normalizer\n",
    "\n",
    "scaler = StandardScaler()\n",
    "\n",
    "df_feat[[*most_relevante_feat]] = pd.DataFrame(\n",
    "    scaler.fit_transform(df_feat.drop([\"Labels\"], axis=1)),\n",
    "    columns=most_relevante_feat)"
   ]
  },
  {
   "cell_type": "code",
   "execution_count": 28,
   "metadata": {},
   "outputs": [
    {
     "data": {
      "image/png": "[encoded data removed]",
      "text/plain": [
       "<matplotlib.figure.Figure at 0x7fcbb56866a0>"
      ]
     },
     "metadata": {},
     "output_type": "display_data"
    }
   ],
   "source": [
    "mutual_hist(data1 = df_feat[df_feat[\"WRank\"] < 1][\"WRank\"]\n",
    "                   , data1_name = 'Winner'\n",
    "                   , data1_color = 'salmon'\n",
    "                   , data2 = df_feat[df_feat[\"LRank\"] < 1][\"LRank\"]\n",
    "                   , data2_name = 'Loser'\n",
    "                   , data2_color = 'navy'\n",
    "                   , x_label = 'Rank'\n",
    "                   , y_label = 'Frequency'\n",
    "                   , title = 'Standardized Distribution of TOP 100 ATP Player')"
   ]
  },
  {
   "cell_type": "markdown",
   "metadata": {},
   "source": [
    "## Training Day"
   ]
  },
  {
   "cell_type": "markdown",
   "metadata": {},
   "source": [
    "#### Splitting the dataset to train / test datasets"
   ]
  },
  {
   "cell_type": "code",
   "execution_count": 29,
   "metadata": {},
   "outputs": [],
   "source": [
    "test_year = 2017\n",
    "\n",
    "df_train = df_feat.iloc[df_atp[df_atp[\"Date\"].dt.year != test_year].index]\n",
    "df_test = df_feat.iloc[df_atp[df_atp[\"Date\"].dt.year == test_year].index]\n",
    "\n",
    "X_train = df_train.drop([\"Labels\"], axis=1)\n",
    "y_train = df_train[\"Labels\"]\n",
    "\n",
    "X_test = df_test.drop([\"Labels\"], axis=1)\n",
    "y_test = df_test[\"Labels\"]"
   ]
  },
  {
   "cell_type": "markdown",
   "metadata": {},
   "source": [
    "### Evaluating multiple classification algorithms"
   ]
  },
  {
   "cell_type": "code",
   "execution_count": 30,
   "metadata": {},
   "outputs": [],
   "source": [
    "from sklearn.metrics import accuracy_score, precision_score, recall_score, f1_score\n",
    "\n",
    "from sklearn.neural_network import MLPClassifier\n",
    "from sklearn.neighbors import KNeighborsClassifier\n",
    "from sklearn.svm import SVC\n",
    "from sklearn.gaussian_process import GaussianProcessClassifier\n",
    "from sklearn.gaussian_process.kernels import RBF\n",
    "from sklearn.tree import DecisionTreeClassifier\n",
    "from sklearn.ensemble import RandomForestClassifier, AdaBoostClassifier\n",
    "from sklearn.naive_bayes import GaussianNB\n",
    "from sklearn.discriminant_analysis import QuadraticDiscriminantAnalysis\n",
    "\n",
    "from time import time"
   ]
  },
  {
   "cell_type": "markdown",
   "metadata": {},
   "source": [
    "#### Helpers"
   ]
  },
  {
   "cell_type": "code",
   "execution_count": 31,
   "metadata": {},
   "outputs": [],
   "source": [
    "def classification_report(y_true, y_pred, name_classifiers, train_time=None):\n",
    "    \"\"\"\n",
    "    Displays multiple evaluation metrics for each classifier\n",
    "    \"\"\"\n",
    "    assert(len(y_pred) == len(name_classifiers))\n",
    "    assert(len(train_time) == len(name_classifiers) if train_time else True)\n",
    "    \n",
    "    reports = []\n",
    "    metrics = [\"Classifier\", \"Accuracy\", \"Precision\", \"Recall\", \"F1-Score\"]\n",
    "    if train_time:\n",
    "        metrics = metrics + [\"Training Duration (seconds)\"]\n",
    "\n",
    "    for idx, y_clf in enumerate(y_pred):\n",
    "        acc = accuracy_score(y_true, y_clf)\n",
    "        pre = precision_score(y_true, y_clf)\n",
    "        rec = recall_score(y_true, y_clf)\n",
    "        f1s = f1_score(y_true, y_clf)\n",
    "        report = (name_classifiers[idx], acc, pre, rec, f1s)\n",
    "        if train_time:\n",
    "            report = report + (train_time[idx], )\n",
    "        reports.append(report)\n",
    "            \n",
    "    display(pd.DataFrame.from_records(reports, columns=metrics))"
   ]
  },
  {
   "cell_type": "markdown",
   "metadata": {},
   "source": [
    "### Evaluating most well-known classification algorithms"
   ]
  },
  {
   "cell_type": "code",
   "execution_count": 33,
   "metadata": {},
   "outputs": [
    {
     "name": "stdout",
     "output_type": "stream",
     "text": [
      "Classifier : Nearest Neighbors ===> Training duration : 0.43830323219299316 sec\n",
      "Classifier : Linear SVM ===> Training duration : 112.55822229385376 sec\n",
      "Classifier : RBF SVM ===> Training duration : 923.4305927753448 sec\n",
      "Classifier : Decision Tree ===> Training duration : 0.46332311630249023 sec\n",
      "Classifier : Random Forest ===> Training duration : 0.41884684562683105 sec\n",
      "Classifier : Neural Net ===> Training duration : 13.704818487167358 sec\n",
      "Classifier : AdaBoost ===> Training duration : 3.216867208480835 sec\n",
      "Classifier : Naive Bayes ===> Training duration : 0.018457889556884766 sec\n"
     ]
    }
   ],
   "source": [
    "names = [\"Nearest Neighbors\", \"Linear SVM\", \"RBF SVM\",\n",
    "         \"Decision Tree\", \"Random Forest\", \"Neural Net\", \"AdaBoost\",\n",
    "         \"Naive Bayes\"]\n",
    "\n",
    "classifiers = [\n",
    "    KNeighborsClassifier(5, n_jobs=-1),\n",
    "    SVC(kernel=\"linear\", C=0.025),\n",
    "    SVC(gamma=2, C=1),\n",
    "    DecisionTreeClassifier(max_depth=10),\n",
    "    RandomForestClassifier(max_depth=10, n_estimators=10, n_jobs=-1),\n",
    "    MLPClassifier(alpha=0.0001),\n",
    "    AdaBoostClassifier(),\n",
    "    GaussianNB()]\n",
    "\n",
    "y_pred = []\n",
    "train_time = []\n",
    "\n",
    "for name, clf in zip(names, classifiers):\n",
    "    tic = time()\n",
    "    clf.fit(X_train, y_train)\n",
    "    toc = time()\n",
    "    \n",
    "    y_pred.append(clf.predict(X_train))\n",
    "    train_time.append(toc - tic)\n",
    "    \n",
    "    print(\"Classifier : {} ===> Training duration : {} sec\".format(name, train_time[-1]))"
   ]
  },
  {
   "cell_type": "code",
   "execution_count": 34,
   "metadata": {},
   "outputs": [
    {
     "data": {
      "text/html": [
       "<div>\n",
       "<style>\n",
       "    .dataframe thead tr:only-child th {\n",
       "        text-align: right;\n",
       "    }\n",
       "\n",
       "    .dataframe thead th {\n",
       "        text-align: left;\n",
       "    }\n",
       "\n",
       "    .dataframe tbody tr th {\n",
       "        vertical-align: top;\n",
       "    }\n",
       "</style>\n",
       "<table border=\"1\" class=\"dataframe\">\n",
       "  <thead>\n",
       "    <tr style=\"text-align: right;\">\n",
       "      <th></th>\n",
       "      <th>Classifier</th>\n",
       "      <th>Accuracy</th>\n",
       "      <th>Precision</th>\n",
       "      <th>Recall</th>\n",
       "      <th>F1-Score</th>\n",
       "      <th>Training Duration (seconds)</th>\n",
       "    </tr>\n",
       "  </thead>\n",
       "  <tbody>\n",
       "    <tr>\n",
       "      <th>0</th>\n",
       "      <td>Nearest Neighbors</td>\n",
       "      <td>0.696520</td>\n",
       "      <td>0.696600</td>\n",
       "      <td>0.713494</td>\n",
       "      <td>0.704946</td>\n",
       "      <td>0.438303</td>\n",
       "    </tr>\n",
       "    <tr>\n",
       "      <th>1</th>\n",
       "      <td>Linear SVM</td>\n",
       "      <td>0.510772</td>\n",
       "      <td>0.509868</td>\n",
       "      <td>0.960392</td>\n",
       "      <td>0.666104</td>\n",
       "      <td>112.558222</td>\n",
       "    </tr>\n",
       "    <tr>\n",
       "      <th>2</th>\n",
       "      <td>RBF SVM</td>\n",
       "      <td>0.855637</td>\n",
       "      <td>0.849591</td>\n",
       "      <td>0.869890</td>\n",
       "      <td>0.859620</td>\n",
       "      <td>923.430593</td>\n",
       "    </tr>\n",
       "    <tr>\n",
       "      <th>3</th>\n",
       "      <td>Decision Tree</td>\n",
       "      <td>0.601163</td>\n",
       "      <td>0.604399</td>\n",
       "      <td>0.622552</td>\n",
       "      <td>0.613341</td>\n",
       "      <td>0.463323</td>\n",
       "    </tr>\n",
       "    <tr>\n",
       "      <th>4</th>\n",
       "      <td>Random Forest</td>\n",
       "      <td>0.639874</td>\n",
       "      <td>0.634664</td>\n",
       "      <td>0.686331</td>\n",
       "      <td>0.659487</td>\n",
       "      <td>0.418847</td>\n",
       "    </tr>\n",
       "    <tr>\n",
       "      <th>5</th>\n",
       "      <td>Neural Net</td>\n",
       "      <td>0.549908</td>\n",
       "      <td>0.548484</td>\n",
       "      <td>0.645926</td>\n",
       "      <td>0.593230</td>\n",
       "      <td>13.704818</td>\n",
       "    </tr>\n",
       "    <tr>\n",
       "      <th>6</th>\n",
       "      <td>AdaBoost</td>\n",
       "      <td>0.542713</td>\n",
       "      <td>0.553145</td>\n",
       "      <td>0.520601</td>\n",
       "      <td>0.536380</td>\n",
       "      <td>3.216867</td>\n",
       "    </tr>\n",
       "    <tr>\n",
       "      <th>7</th>\n",
       "      <td>Naive Bayes</td>\n",
       "      <td>0.515555</td>\n",
       "      <td>0.515992</td>\n",
       "      <td>0.751585</td>\n",
       "      <td>0.611895</td>\n",
       "      <td>0.018458</td>\n",
       "    </tr>\n",
       "  </tbody>\n",
       "</table>\n",
       "</div>"
      ],
      "text/plain": [
       "          Classifier  Accuracy  Precision    Recall  F1-Score  \\\n",
       "0  Nearest Neighbors  0.696520   0.696600  0.713494  0.704946   \n",
       "1         Linear SVM  0.510772   0.509868  0.960392  0.666104   \n",
       "2            RBF SVM  0.855637   0.849591  0.869890  0.859620   \n",
       "3      Decision Tree  0.601163   0.604399  0.622552  0.613341   \n",
       "4      Random Forest  0.639874   0.634664  0.686331  0.659487   \n",
       "5         Neural Net  0.549908   0.548484  0.645926  0.593230   \n",
       "6           AdaBoost  0.542713   0.553145  0.520601  0.536380   \n",
       "7        Naive Bayes  0.515555   0.515992  0.751585  0.611895   \n",
       "\n",
       "   Training Duration (seconds)  \n",
       "0                     0.438303  \n",
       "1                   112.558222  \n",
       "2                   923.430593  \n",
       "3                     0.463323  \n",
       "4                     0.418847  \n",
       "5                    13.704818  \n",
       "6                     3.216867  \n",
       "7                     0.018458  "
      ]
     },
     "metadata": {},
     "output_type": "display_data"
    }
   ],
   "source": [
    "classification_report(y_train, y_pred, names, train_time)"
   ]
  },
  {
   "cell_type": "markdown",
   "metadata": {},
   "source": [
    "## Designating the best classifier \n",
    "\n",
    "We take as metric the F1-score to have a compromise between precision and recall.\n",
    "\n",
    "The classifier with best metric evaluation is __the kernelized SVM__"
   ]
  },
  {
   "cell_type": "markdown",
   "metadata": {},
   "source": [
    "### Evaluation on test data"
   ]
  },
  {
   "cell_type": "code",
   "execution_count": 36,
   "metadata": {},
   "outputs": [],
   "source": [
    "y_test_pred = []\n",
    "\n",
    "for name, clf in zip(names, classifiers):\n",
    "    y_test_pred.append(clf.predict(X_test))"
   ]
  },
  {
   "cell_type": "code",
   "execution_count": 37,
   "metadata": {},
   "outputs": [
    {
     "data": {
      "text/html": [
       "<div>\n",
       "<style>\n",
       "    .dataframe thead tr:only-child th {\n",
       "        text-align: right;\n",
       "    }\n",
       "\n",
       "    .dataframe thead th {\n",
       "        text-align: left;\n",
       "    }\n",
       "\n",
       "    .dataframe tbody tr th {\n",
       "        vertical-align: top;\n",
       "    }\n",
       "</style>\n",
       "<table border=\"1\" class=\"dataframe\">\n",
       "  <thead>\n",
       "    <tr style=\"text-align: right;\">\n",
       "      <th></th>\n",
       "      <th>Classifier</th>\n",
       "      <th>Accuracy</th>\n",
       "      <th>Precision</th>\n",
       "      <th>Recall</th>\n",
       "      <th>F1-Score</th>\n",
       "    </tr>\n",
       "  </thead>\n",
       "  <tbody>\n",
       "    <tr>\n",
       "      <th>0</th>\n",
       "      <td>Nearest Neighbors</td>\n",
       "      <td>0.517647</td>\n",
       "      <td>0.530747</td>\n",
       "      <td>0.535055</td>\n",
       "      <td>0.532892</td>\n",
       "    </tr>\n",
       "    <tr>\n",
       "      <th>1</th>\n",
       "      <td>Linear SVM</td>\n",
       "      <td>0.517647</td>\n",
       "      <td>0.517018</td>\n",
       "      <td>0.941697</td>\n",
       "      <td>0.667539</td>\n",
       "    </tr>\n",
       "    <tr>\n",
       "      <th>2</th>\n",
       "      <td>RBF SVM</td>\n",
       "      <td>0.505123</td>\n",
       "      <td>0.517696</td>\n",
       "      <td>0.550554</td>\n",
       "      <td>0.533619</td>\n",
       "    </tr>\n",
       "    <tr>\n",
       "      <th>3</th>\n",
       "      <td>Decision Tree</td>\n",
       "      <td>0.583302</td>\n",
       "      <td>0.622265</td>\n",
       "      <td>0.482657</td>\n",
       "      <td>0.543641</td>\n",
       "    </tr>\n",
       "    <tr>\n",
       "      <th>4</th>\n",
       "      <td>Random Forest</td>\n",
       "      <td>0.543074</td>\n",
       "      <td>0.553357</td>\n",
       "      <td>0.577860</td>\n",
       "      <td>0.565343</td>\n",
       "    </tr>\n",
       "    <tr>\n",
       "      <th>5</th>\n",
       "      <td>Neural Net</td>\n",
       "      <td>0.523340</td>\n",
       "      <td>0.525502</td>\n",
       "      <td>0.752768</td>\n",
       "      <td>0.618932</td>\n",
       "    </tr>\n",
       "    <tr>\n",
       "      <th>6</th>\n",
       "      <td>AdaBoost</td>\n",
       "      <td>0.544972</td>\n",
       "      <td>0.576923</td>\n",
       "      <td>0.431734</td>\n",
       "      <td>0.493879</td>\n",
       "    </tr>\n",
       "    <tr>\n",
       "      <th>7</th>\n",
       "      <td>Naive Bayes</td>\n",
       "      <td>0.500190</td>\n",
       "      <td>0.511111</td>\n",
       "      <td>0.645018</td>\n",
       "      <td>0.570310</td>\n",
       "    </tr>\n",
       "  </tbody>\n",
       "</table>\n",
       "</div>"
      ],
      "text/plain": [
       "          Classifier  Accuracy  Precision    Recall  F1-Score\n",
       "0  Nearest Neighbors  0.517647   0.530747  0.535055  0.532892\n",
       "1         Linear SVM  0.517647   0.517018  0.941697  0.667539\n",
       "2            RBF SVM  0.505123   0.517696  0.550554  0.533619\n",
       "3      Decision Tree  0.583302   0.622265  0.482657  0.543641\n",
       "4      Random Forest  0.543074   0.553357  0.577860  0.565343\n",
       "5         Neural Net  0.523340   0.525502  0.752768  0.618932\n",
       "6           AdaBoost  0.544972   0.576923  0.431734  0.493879\n",
       "7        Naive Bayes  0.500190   0.511111  0.645018  0.570310"
      ]
     },
     "metadata": {},
     "output_type": "display_data"
    }
   ],
   "source": [
    "classification_report(y_test, y_test_pred, names)"
   ]
  },
  {
   "cell_type": "markdown",
   "metadata": {},
   "source": []
  },
  {
   "cell_type": "code",
   "execution_count": null,
   "metadata": {},
   "outputs": [],
   "source": []
  },
  {
   "cell_type": "markdown",
   "metadata": {},
   "source": [
    "## Further Improvements\n",
    "\n",
    "- Hyper-parameters tuning (e.g. by splitting the dataset to train/validation/test)\n",
    "\n",
    "- Modeling Fatigue / Consider time series\n",
    "    - Add time discount factor to take into account decrease in performance due to phisiological ageing\n",
    "\n",
    "- Modeling Injury by checking withdrawal from matches\n",
    "\n",
    "- Improve data validation / cleansing\n",
    "\n",
    "- Additional Approaches : Build NN with TensorFlow or Keras"
   ]
  }
 ],
 "metadata": {
  "kernelspec": {
   "display_name": "Python 3",
   "language": "python",
   "name": "python3"
  },
  "language_info": {
   "codemirror_mode": {
    "name": "ipython",
    "version": 3
   },
   "file_extension": ".py",
   "mimetype": "text/x-python",
   "name": "python",
   "nbconvert_exporter": "python",
   "pygments_lexer": "ipython3",
   "version": "3.5.2"
  }
 },
 "nbformat": 4,
 "nbformat_minor": 2
}
