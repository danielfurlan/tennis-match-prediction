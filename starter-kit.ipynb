{
 "cells": [
  {
   "cell_type": "code",
   "execution_count": 1,
   "metadata": {},
   "outputs": [],
   "source": [
    "import pandas as pd\n",
    "from urllib.request import urlopen  \n",
    "import os.path as osp\n",
    "import os\n",
    "import logging\n",
    "import zipfile\n",
    "from glob import glob\n",
    "logging.getLogger().setLevel('INFO')"
   ]
  },
  {
   "cell_type": "code",
   "execution_count": 20,
   "metadata": {},
   "outputs": [
    {
     "name": "stderr",
     "output_type": "stream",
     "text": [
      "/usr/lib/python3/dist-packages/matplotlib/__init__.py:1352: UserWarning:  This call to matplotlib.use() has no effect\n",
      "because the backend has already been chosen;\n",
      "matplotlib.use() must be called *before* pylab, matplotlib.pyplot,\n",
      "or matplotlib.backends is imported for the first time.\n",
      "\n",
      "  warnings.warn(_use_error_msg)\n"
     ]
    }
   ],
   "source": [
    "import numpy as np\n",
    "from IPython.display import display, HTML\n",
    "\n",
    "import matplotlib\n",
    "matplotlib.use(\"cairo\")\n",
    "import matplotlib.pyplot as plt\n",
    "import matplotlib.dates as mdates\n",
    "import matplotlib.cbook as cbook\n",
    "\n",
    "%matplotlib inline"
   ]
  },
  {
   "cell_type": "markdown",
   "metadata": {},
   "source": [
    "## Helpers"
   ]
  },
  {
   "cell_type": "code",
   "execution_count": 3,
   "metadata": {},
   "outputs": [],
   "source": [
    "def download_file(url_str, path):\n",
    "    url = urlopen(url_str)\n",
    "    output = open(path, 'wb')       \n",
    "    output.write(url.read())\n",
    "    output.close()  \n",
    "    \n",
    "def extract_file(archive_path, target_dir):\n",
    "    zip_file = zipfile.ZipFile(archive_path, 'r')\n",
    "    zip_file.extractall(target_dir)\n",
    "    zip_file.close()"
   ]
  },
  {
   "cell_type": "markdown",
   "metadata": {},
   "source": [
    "## Download the dataset"
   ]
  },
  {
   "cell_type": "code",
   "execution_count": null,
   "metadata": {},
   "outputs": [],
   "source": [
    "BASE_URL = 'http://tennis-data.co.uk'\n",
    "DATA_DIR = \"tennis_data\"\n",
    "ATP_DIR = './{}/ATP'.format(DATA_DIR)\n",
    "WTA_DIR = './{}/WTA'.format(DATA_DIR)\n",
    "\n",
    "ATP_URLS = [BASE_URL + \"/%i/%i.zip\" % (i,i) for i in range(2000,2019)]\n",
    "WTA_URLS = [BASE_URL + \"/%iw/%i.zip\" % (i,i) for i in range(2007,2019)]\n",
    "\n",
    "os.makedirs(osp.join(ATP_DIR, 'archives'), exist_ok=True)\n",
    "os.makedirs(osp.join(WTA_DIR, 'archives'), exist_ok=True)\n",
    "\n",
    "for files, directory in ((ATP_URLS, ATP_DIR), (WTA_URLS, WTA_DIR)):\n",
    "    for dl_path in files:\n",
    "        logging.info(\"downloading & extracting file %s\", dl_path)\n",
    "        archive_path = osp.join(directory, 'archives', osp.basename(dl_path))\n",
    "        download_file(dl_path, archive_path)\n",
    "        extract_file(archive_path, directory)\n",
    "    \n",
    "ATP_FILES = sorted(glob(\"%s/*.xls*\" % ATP_DIR))\n",
    "WTA_FILES = sorted(glob(\"%s/*.xls*\" % WTA_DIR))\n",
    "\n",
    "df_atp = pd.concat([pd.read_excel(f) for f in ATP_FILES], ignore_index=True)\n",
    "df_wta = pd.concat([pd.read_excel(f) for f in WTA_FILES], ignore_index=True)\n",
    "\n",
    "logging.info(\"%i matches ATP in df_atp\", df_atp.shape[0])\n",
    "logging.info(\"%i matches WTA in df_wta\", df_wta.shape[0])"
   ]
  },
  {
   "cell_type": "code",
   "execution_count": null,
   "metadata": {},
   "outputs": [],
   "source": [
    "df_atp.to_csv(\"df_atp.csv\")\n",
    "df_wta.to_csv(\"df_wta.csv\")"
   ]
  },
  {
   "cell_type": "markdown",
   "metadata": {},
   "source": [
    "#### If the dataset is already available"
   ]
  },
  {
   "cell_type": "code",
   "execution_count": 3,
   "metadata": {},
   "outputs": [
    {
     "data": {
      "text/html": [
       "<div>\n",
       "<style>\n",
       "    .dataframe thead tr:only-child th {\n",
       "        text-align: right;\n",
       "    }\n",
       "\n",
       "    .dataframe thead th {\n",
       "        text-align: left;\n",
       "    }\n",
       "\n",
       "    .dataframe tbody tr th {\n",
       "        vertical-align: top;\n",
       "    }\n",
       "</style>\n",
       "<table border=\"1\" class=\"dataframe\">\n",
       "  <thead>\n",
       "    <tr style=\"text-align: right;\">\n",
       "      <th></th>\n",
       "      <th>ATP</th>\n",
       "      <th>AvgL</th>\n",
       "      <th>AvgW</th>\n",
       "      <th>B&amp;WL</th>\n",
       "      <th>B&amp;WW</th>\n",
       "      <th>B365L</th>\n",
       "      <th>B365W</th>\n",
       "      <th>Best of</th>\n",
       "      <th>CBL</th>\n",
       "      <th>CBW</th>\n",
       "      <th>...</th>\n",
       "      <th>UBW</th>\n",
       "      <th>W1</th>\n",
       "      <th>W2</th>\n",
       "      <th>W3</th>\n",
       "      <th>W4</th>\n",
       "      <th>W5</th>\n",
       "      <th>WPts</th>\n",
       "      <th>WRank</th>\n",
       "      <th>Winner</th>\n",
       "      <th>Wsets</th>\n",
       "    </tr>\n",
       "  </thead>\n",
       "  <tbody>\n",
       "    <tr>\n",
       "      <th>0</th>\n",
       "      <td>1</td>\n",
       "      <td>NaN</td>\n",
       "      <td>NaN</td>\n",
       "      <td>NaN</td>\n",
       "      <td>NaN</td>\n",
       "      <td>NaN</td>\n",
       "      <td>NaN</td>\n",
       "      <td>3</td>\n",
       "      <td>NaN</td>\n",
       "      <td>NaN</td>\n",
       "      <td>...</td>\n",
       "      <td>NaN</td>\n",
       "      <td>6.0</td>\n",
       "      <td>6.0</td>\n",
       "      <td>NaN</td>\n",
       "      <td>NaN</td>\n",
       "      <td>NaN</td>\n",
       "      <td>NaN</td>\n",
       "      <td>63</td>\n",
       "      <td>Dosedel S.</td>\n",
       "      <td>2.0</td>\n",
       "    </tr>\n",
       "    <tr>\n",
       "      <th>1</th>\n",
       "      <td>1</td>\n",
       "      <td>NaN</td>\n",
       "      <td>NaN</td>\n",
       "      <td>NaN</td>\n",
       "      <td>NaN</td>\n",
       "      <td>NaN</td>\n",
       "      <td>NaN</td>\n",
       "      <td>3</td>\n",
       "      <td>NaN</td>\n",
       "      <td>NaN</td>\n",
       "      <td>...</td>\n",
       "      <td>NaN</td>\n",
       "      <td>6.0</td>\n",
       "      <td>6.0</td>\n",
       "      <td>NaN</td>\n",
       "      <td>NaN</td>\n",
       "      <td>NaN</td>\n",
       "      <td>NaN</td>\n",
       "      <td>5</td>\n",
       "      <td>Enqvist T.</td>\n",
       "      <td>2.0</td>\n",
       "    </tr>\n",
       "    <tr>\n",
       "      <th>2</th>\n",
       "      <td>1</td>\n",
       "      <td>NaN</td>\n",
       "      <td>NaN</td>\n",
       "      <td>NaN</td>\n",
       "      <td>NaN</td>\n",
       "      <td>NaN</td>\n",
       "      <td>NaN</td>\n",
       "      <td>3</td>\n",
       "      <td>NaN</td>\n",
       "      <td>NaN</td>\n",
       "      <td>...</td>\n",
       "      <td>NaN</td>\n",
       "      <td>6.0</td>\n",
       "      <td>7.0</td>\n",
       "      <td>6.0</td>\n",
       "      <td>NaN</td>\n",
       "      <td>NaN</td>\n",
       "      <td>NaN</td>\n",
       "      <td>40</td>\n",
       "      <td>Escude N.</td>\n",
       "      <td>2.0</td>\n",
       "    </tr>\n",
       "    <tr>\n",
       "      <th>3</th>\n",
       "      <td>1</td>\n",
       "      <td>NaN</td>\n",
       "      <td>NaN</td>\n",
       "      <td>NaN</td>\n",
       "      <td>NaN</td>\n",
       "      <td>NaN</td>\n",
       "      <td>NaN</td>\n",
       "      <td>3</td>\n",
       "      <td>NaN</td>\n",
       "      <td>NaN</td>\n",
       "      <td>...</td>\n",
       "      <td>NaN</td>\n",
       "      <td>6.0</td>\n",
       "      <td>6.0</td>\n",
       "      <td>NaN</td>\n",
       "      <td>NaN</td>\n",
       "      <td>NaN</td>\n",
       "      <td>NaN</td>\n",
       "      <td>65</td>\n",
       "      <td>Federer R.</td>\n",
       "      <td>2.0</td>\n",
       "    </tr>\n",
       "    <tr>\n",
       "      <th>4</th>\n",
       "      <td>1</td>\n",
       "      <td>NaN</td>\n",
       "      <td>NaN</td>\n",
       "      <td>NaN</td>\n",
       "      <td>NaN</td>\n",
       "      <td>NaN</td>\n",
       "      <td>NaN</td>\n",
       "      <td>3</td>\n",
       "      <td>NaN</td>\n",
       "      <td>NaN</td>\n",
       "      <td>...</td>\n",
       "      <td>NaN</td>\n",
       "      <td>7.0</td>\n",
       "      <td>5.0</td>\n",
       "      <td>6.0</td>\n",
       "      <td>NaN</td>\n",
       "      <td>NaN</td>\n",
       "      <td>NaN</td>\n",
       "      <td>81</td>\n",
       "      <td>Fromberg R.</td>\n",
       "      <td>2.0</td>\n",
       "    </tr>\n",
       "  </tbody>\n",
       "</table>\n",
       "<p>5 rows × 54 columns</p>\n",
       "</div>"
      ],
      "text/plain": [
       "   ATP  AvgL  AvgW  B&WL  B&WW  B365L  B365W  Best of  CBL  CBW  ...   UBW  \\\n",
       "0    1   NaN   NaN   NaN   NaN    NaN    NaN        3  NaN  NaN  ...   NaN   \n",
       "1    1   NaN   NaN   NaN   NaN    NaN    NaN        3  NaN  NaN  ...   NaN   \n",
       "2    1   NaN   NaN   NaN   NaN    NaN    NaN        3  NaN  NaN  ...   NaN   \n",
       "3    1   NaN   NaN   NaN   NaN    NaN    NaN        3  NaN  NaN  ...   NaN   \n",
       "4    1   NaN   NaN   NaN   NaN    NaN    NaN        3  NaN  NaN  ...   NaN   \n",
       "\n",
       "    W1   W2   W3  W4  W5  WPts  WRank       Winner  Wsets  \n",
       "0  6.0  6.0  NaN NaN NaN   NaN     63   Dosedel S.    2.0  \n",
       "1  6.0  6.0  NaN NaN NaN   NaN      5   Enqvist T.    2.0  \n",
       "2  6.0  7.0  6.0 NaN NaN   NaN     40    Escude N.    2.0  \n",
       "3  6.0  6.0  NaN NaN NaN   NaN     65   Federer R.    2.0  \n",
       "4  7.0  5.0  6.0 NaN NaN   NaN     81  Fromberg R.    2.0  \n",
       "\n",
       "[5 rows x 54 columns]"
      ]
     },
     "execution_count": 3,
     "metadata": {},
     "output_type": "execute_result"
    }
   ],
   "source": [
    "df_atp = pd.read_csv(\"df_atp.csv\", index_col=0, low_memory=False)\n",
    "df_atp[\"Date\"] = pd.to_datetime(df_atp[\"Date\"])\n",
    "\n",
    "df_atp.head(5)"
   ]
  },
  {
   "cell_type": "markdown",
   "metadata": {},
   "source": [
    "## Your work"
   ]
  },
  {
   "cell_type": "markdown",
   "metadata": {},
   "source": [
    "#### Helpers Functions"
   ]
  },
  {
   "cell_type": "code",
   "execution_count": 4,
   "metadata": {},
   "outputs": [],
   "source": [
    "def mutual_hist(data1, data1_name, data1_color, data2, data2_name, data2_color, x_label, y_label, title):\n",
    "    \"\"\"\n",
    "    Plot overlaid histograms of two distributions\n",
    "    \"\"\"\n",
    "    # Set the bounds for the bins so that the two distributions are fairly compared\n",
    "    max_nbins = 10\n",
    "    data_range = [min(min(data1), min(data2)), max(max(data1), max(data2))]\n",
    "    binwidth = (data_range[1] - data_range[0]) / max_nbins\n",
    "    bins = np.arange(data_range[0], data_range[1] + binwidth, binwidth)\n",
    "\n",
    "    # Create the plot\n",
    "    _, ax = plt.subplots()\n",
    "    ax.hist(data1, bins = bins, color = data1_color, alpha = 1, label = data1_name)\n",
    "    ax.hist(data2, bins = bins, color = data2_color, alpha = 0.75, label = data2_name)\n",
    "    ax.set_ylabel(y_label)\n",
    "    ax.set_xlabel(x_label)\n",
    "    ax.set_title(title)\n",
    "    ax.legend(loc = 'best')"
   ]
  },
  {
   "cell_type": "markdown",
   "metadata": {},
   "source": [
    "### Q1. The three (3) ATP players with most wins"
   ]
  },
  {
   "cell_type": "code",
   "execution_count": 5,
   "metadata": {},
   "outputs": [
    {
     "data": {
      "text/plain": [
       "Winner\n",
       "Federer R.     1108\n",
       "Nadal R.        891\n",
       "Djokovic N.     789\n",
       "dtype: int64"
      ]
     },
     "execution_count": 5,
     "metadata": {},
     "output_type": "execute_result"
    }
   ],
   "source": [
    "df_atp.groupby(\"Winner\").size().sort_values(ascending=False).head(3)\n",
    "\n",
    "# .groupby : Creates groups each holding rows with unique column value\n",
    "# .size    : Returns size of each group\n",
    "# .sort_values : Sorts the Panda Series (actually in descending order)\n",
    "# .head        : Returns the N foremost elements"
   ]
  },
  {
   "cell_type": "markdown",
   "metadata": {},
   "source": [
    "### Q2. The number of sets won by Roger Federer"
   ]
  },
  {
   "cell_type": "code",
   "execution_count": 6,
   "metadata": {},
   "outputs": [
    {
     "data": {
      "text/html": [
       "<h4>The number of sets won in total by R. Federer is : 2530 sets"
      ],
      "text/plain": [
       "<IPython.core.display.HTML object>"
      ]
     },
     "metadata": {},
     "output_type": "display_data"
    }
   ],
   "source": [
    "# We filter the ATP dataframe to get Federer's matches\n",
    "# To do so, we need to make sure that our research is case-insensitive\n",
    "# Also we could use regular expressions\n",
    "df_federer = df_atp[df_atp[\"Winner\"].str.contains('federer', case=False)]\n",
    "sets_won = int(df_federer[\"Wsets\"].sum())\n",
    "\n",
    "display(HTML(\"<h4>The number of sets won in total by R. Federer is : {} sets\".format(sets_won)))"
   ]
  },
  {
   "cell_type": "markdown",
   "metadata": {},
   "source": [
    "### Q3. The number of sets won by Roger Federer in 2016 and 2017"
   ]
  },
  {
   "cell_type": "code",
   "execution_count": 7,
   "metadata": {
    "scrolled": true
   },
   "outputs": [
    {
     "data": {
      "text/html": [
       "<h4>The number of sets won in 2016 by R. Federer is : 52 sets"
      ],
      "text/plain": [
       "<IPython.core.display.HTML object>"
      ]
     },
     "metadata": {},
     "output_type": "display_data"
    },
    {
     "data": {
      "text/html": [
       "<h4>The number of sets won in 2017 by R. Federer is : 120 sets"
      ],
      "text/plain": [
       "<IPython.core.display.HTML object>"
      ]
     },
     "metadata": {},
     "output_type": "display_data"
    },
    {
     "data": {
      "text/html": [
       "<h4>The number of sets won in 2016 and 2017 by R. Federer is : 172 sets"
      ],
      "text/plain": [
       "<IPython.core.display.HTML object>"
      ]
     },
     "metadata": {},
     "output_type": "display_data"
    }
   ],
   "source": [
    "# For 2016 only\n",
    "sets_won_2016 = df_federer[df_federer[\"Date\"].dt.year == 2016][\"Wsets\"].sum()\n",
    "sets_won_2016 = int(sets_won_2016)\n",
    "\n",
    "# For 2017 only\n",
    "sets_won_2017 = df_federer[df_federer[\"Date\"].dt.year == 2017][\"Wsets\"].sum()\n",
    "sets_won_2017 = int(sets_won_2017)\n",
    "\n",
    "# For both 2016 and 2017 (For the sake of using multiple filtering criterias)\n",
    "sets_won_2016_2017 = df_federer[(df_federer[\"Date\"].dt.year == 2016) | (df_federer[\"Date\"].dt.year == 2017)][\"Wsets\"].sum()\n",
    "sets_won_2016_2017 = int(sets_won_2016_2017)\n",
    "\n",
    "display(HTML(\"<h4>The number of sets won in 2016 by R. Federer is : {} sets\".format(sets_won_2016)))\n",
    "display(HTML(\"<h4>The number of sets won in 2017 by R. Federer is : {} sets\".format(sets_won_2017)))\n",
    "display(HTML(\"<h4>The number of sets won in 2016 and 2017 by R. Federer is : {} sets\".format(sets_won_2016_2017)))"
   ]
  },
  {
   "cell_type": "markdown",
   "metadata": {},
   "source": [
    "### Q4. Percentage of winner victories prior to each match"
   ]
  },
  {
   "cell_type": "markdown",
   "metadata": {},
   "source": [
    "###### The solution to this question is computationally extensive\n",
    "- We try to solve this issue by either parallelizing the Pandas' `apply` method using a library (e.g. Dask).\n",
    "- Or, we adopt C-compiled code using Cython"
   ]
  },
  {
   "cell_type": "code",
   "execution_count": 8,
   "metadata": {},
   "outputs": [],
   "source": [
    "%load_ext Cython"
   ]
  },
  {
   "cell_type": "code",
   "execution_count": 9,
   "metadata": {},
   "outputs": [],
   "source": [
    "%%cython\n",
    "cpdef double prior_wins_percentage(date, str player, df, int min_games=5):\n",
    "    \"\"\"\n",
    "    @arg\n",
    "    \"\"\"\n",
    "    cpdef df_prior;\n",
    "    cdef int prior_wins;\n",
    "    cdef int prior_losses;\n",
    "    \n",
    "    df_prior = df[df[\"Date\"] < date]\n",
    "    prior_wins = df_prior[df_prior[\"Winner\"] == player].shape[0]\n",
    "    prior_losses = df_prior[df_prior[\"Loser\"] == player].shape[0]\n",
    "    \n",
    "    # We set a minimum number of games to avoid extra-high win rates\n",
    "    # (e.g. like at a professional career debut)\n",
    "    if (prior_wins + prior_losses) < min_games:\n",
    "        return 0\n",
    "    return prior_wins / (prior_wins + prior_losses)"
   ]
  },
  {
   "cell_type": "code",
   "execution_count": null,
   "metadata": {},
   "outputs": [],
   "source": [
    "df_atp[\"winner_prior_wins\"] = df_atp.apply(\n",
    "    lambda row: prior_wins_percentage(\n",
    "        row[\"Date\"],\n",
    "        row[\"Winner\"],\n",
    "        df_atp\n",
    "    ),\n",
    "    axis=1\n",
    ")"
   ]
  },
  {
   "cell_type": "code",
   "execution_count": null,
   "metadata": {},
   "outputs": [],
   "source": [
    "df_atp[\"loser_prior_wins\"] = df_atp.apply(\n",
    "    lambda row: prior_wins_percentage(\n",
    "        row[\"Date\"],\n",
    "        row[\"Loser\"],\n",
    "        df_atp\n",
    "    ),\n",
    "    axis=1\n",
    ")"
   ]
  },
  {
   "cell_type": "markdown",
   "metadata": {},
   "source": [
    "###### Save to a local CSV file"
   ]
  },
  {
   "cell_type": "code",
   "execution_count": 12,
   "metadata": {},
   "outputs": [],
   "source": [
    "# df_atp.to_csv(\"atp_prior_wins.csv\")\n",
    "\n",
    "df_atp = pd.read_csv(\"atp_prior_wins.csv\", index_col=0, low_memory=False)\n",
    "df_atp[\"Date\"] = pd.to_datetime(df_atp[\"Date\"])"
   ]
  },
  {
   "cell_type": "code",
   "execution_count": 13,
   "metadata": {},
   "outputs": [
    {
     "data": {
      "image/png": "[encoded data removed]",
      "text/plain": [
       "<matplotlib.figure.Figure at 0x7fd07f9fdba8>"
      ]
     },
     "metadata": {},
     "output_type": "display_data"
    }
   ],
   "source": [
    "mutual_hist(data1 = df_atp[\"winner_prior_wins\"].apply(lambda x: x * 100)\n",
    "                   , data1_name = 'Winner'\n",
    "                   , data1_color = 'salmon'\n",
    "                   , data2 = df_atp[\"loser_prior_wins\"].apply(lambda x: x * 100)\n",
    "                   , data2_name = 'Loser'\n",
    "                   , data2_color = 'navy'\n",
    "                   , x_label = 'Prior Wins Percentage'\n",
    "                   , y_label = 'Frequency'\n",
    "                   , title = 'Distribution of Wins Percentages')"
   ]
  },
  {
   "cell_type": "markdown",
   "metadata": {},
   "source": [
    "### Plotting the Carreer Progress of Top 3 ATP Players"
   ]
  },
  {
   "cell_type": "code",
   "execution_count": null,
   "metadata": {},
   "outputs": [],
   "source": [
    "x_nadal = df_atp[df_atp[\"Winner\"].str.contains(\"nadal\", case=False)][\"Date\"].values\n",
    "y_nadal = df_atp[df_atp[\"Winner\"].str.contains(\"nadal\", case=False)][\"winner_prior_wins\"].values\n",
    "\n",
    "fig, ax = plt.subplots()\n",
    "ax.plot(x_nadal, y_nadal);\n",
    "\n",
    "fig.show()"
   ]
  },
  {
   "cell_type": "code",
   "execution_count": 62,
   "metadata": {},
   "outputs": [],
   "source": [
    "df_top3 = df_atp[\n",
    "    (df_atp[\"Winner\"].str.contains(\"federer\", case=False)) | \\\n",
    "    (df_atp[\"Winner\"].str.contains(\"nadal\", case=False)) | \\\n",
    "    (df_atp[\"Winner\"].str.contains(\"djokovic\", case=False))\n",
    "][[\"Winner\", \"Date\", \"winner_prior_wins\"]]\n",
    "\n",
    "df_top3 = df_top3.drop(df_top3[df_top3[\"winner_prior_wins\"] == 0.0].index)"
   ]
  },
  {
   "cell_type": "code",
   "execution_count": 63,
   "metadata": {},
   "outputs": [],
   "source": [
    "x_date = []\n",
    "y_federer = []\n",
    "y_nadal = []\n",
    "y_djokovic = []\n",
    "\n",
    "for date, group in df_top3.groupby([\"Date\"]):\n",
    "    x_date.append(date)\n",
    "    try:\n",
    "        y_federer.append(group[group[\"Winner\"].str.contains(\"federer\", case=False)].iloc[0][\"winner_prior_wins\"])\n",
    "    except IndexError:\n",
    "        y_federer.append(y_federer[-1] if len(y_federer) else 0.0)\n",
    "    try:\n",
    "        y_nadal.append(group[group[\"Winner\"].str.contains(\"nadal\", case=False)].iloc[0][\"winner_prior_wins\"])\n",
    "    except IndexError:\n",
    "        y_nadal.append(y_nadal[-1] if len(y_nadal) else 0.0)\n",
    "    try:\n",
    "        y_djokovic.append(group[group[\"Winner\"].str.contains(\"djokovic\", case=False)].iloc[0][\"winner_prior_wins\"])\n",
    "    except IndexError:\n",
    "        y_djokovic.append(y_djokovic[-1] if len(y_djokovic) else 0.0)"
   ]
  },
  {
   "cell_type": "code",
   "execution_count": 68,
   "metadata": {},
   "outputs": [
    {
     "data": {
      "image/png": "[encoded data removed]",
      "text/plain": [
       "<matplotlib.figure.Figure at 0x7fd07bd4f320>"
      ]
     },
     "metadata": {},
     "output_type": "display_data"
    }
   ],
   "source": [
    "plt.figure(figsize=(15, 5))\n",
    "\n",
    "plt.plot(x_date, y_federer, color='salmon', label=\"Federer R.\")\n",
    "plt.plot(x_date, y_nadal, color='navy', label=\"Nadal R.\")\n",
    "plt.plot(x_date, y_djokovic, color='green', label=\"Djokovic N.\")\n",
    "plt.title(\"Wins progress of most successful ATP players\")\n",
    "plt.xlabel(\"Years\")\n",
    "plt.ylabel(\"Wins Percentage\")\n",
    "plt.legend(loc='best');"
   ]
  },
  {
   "cell_type": "code",
   "execution_count": null,
   "metadata": {},
   "outputs": [],
   "source": []
  },
  {
   "cell_type": "code",
   "execution_count": null,
   "metadata": {},
   "outputs": [],
   "source": []
  },
  {
   "cell_type": "code",
   "execution_count": null,
   "metadata": {},
   "outputs": [],
   "source": []
  },
  {
   "cell_type": "code",
   "execution_count": null,
   "metadata": {},
   "outputs": [],
   "source": []
  },
  {
   "cell_type": "code",
   "execution_count": null,
   "metadata": {},
   "outputs": [],
   "source": [
    "df_atp = pd.read_csv(\"atp_prior_wins.csv\", index_col=0)\n",
    "df_atp[\"Date\"] = pd.to_datetime(df_atp[\"Date\"])"
   ]
  }
 ],
 "metadata": {
  "kernelspec": {
   "display_name": "Python 3",
   "language": "python",
   "name": "python3"
  },
  "language_info": {
   "codemirror_mode": {
    "name": "ipython",
    "version": 3
   },
   "file_extension": ".py",
   "mimetype": "text/x-python",
   "name": "python",
   "nbconvert_exporter": "python",
   "pygments_lexer": "ipython3",
   "version": "3.5.2"
  }
 },
 "nbformat": 4,
 "nbformat_minor": 2
}
